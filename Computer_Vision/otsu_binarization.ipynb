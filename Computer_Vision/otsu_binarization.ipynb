{
 "cells": [
  {
   "cell_type": "markdown",
   "metadata": {},
   "source": [
    "# Otsu's Method"
   ]
  },
  {
   "cell_type": "code",
   "execution_count": 16,
   "metadata": {
    "collapsed": false,
    "deletable": true,
    "editable": true
   },
   "outputs": [],
   "source": [
    "import cv2\n",
    "import numpy as np\n",
    "from matplotlib import pyplot as plt"
   ]
  },
  {
   "cell_type": "code",
   "execution_count": 11,
   "metadata": {
    "collapsed": false,
    "deletable": true,
    "editable": true
   },
   "outputs": [],
   "source": [
    "img = cv2.imread('/home/lmelvix/projects/computer-vision/data/can_pix.png',0)"
   ]
  },
  {
   "cell_type": "code",
   "execution_count": 37,
   "metadata": {
    "collapsed": false,
    "deletable": true,
    "editable": true
   },
   "outputs": [],
   "source": [
    "def otsu(img):\n",
    "    blur = cv2.GaussianBlur(img,(5,5),0)\n",
    "    # find normalized_histogram, and its cumulative distribution function\n",
    "    hist = cv2.calcHist([blur],[0],None,[256],[0,256])\n",
    "    hist_norm = hist.ravel()/hist.max()\n",
    "    print \"hist_norm\"\n",
    "    print hist_norm\n",
    "    Q = hist_norm.cumsum()\n",
    "    bins = np.arange(256)\n",
    "    fn_min = np.inf\n",
    "    thresh = -1\n",
    "    for i in xrange(1,256):\n",
    "        p1,p2 = np.hsplit(hist_norm,[i]) # probabilities\n",
    "        q1,q2 = Q[i],Q[255]-Q[i] # cum sum of classes\n",
    "        b1,b2 = np.hsplit(bins,[i]) # weights\n",
    "        # finding means and variances\n",
    "        m1,m2 = np.sum(p1*b1)/q1, np.sum(p2*b2)/q2\n",
    "        v1,v2 = np.sum(((b1-m1)**2)*p1)/q1,np.sum(((b2-m2)**2)*p2)/q2\n",
    "        # calculates the minimization function\n",
    "        fn = v1*q1 + v2*q2\n",
    "        if fn < fn_min:\n",
    "            fn_min = fn\n",
    "            thresh = i\n",
    "    # find otsu's threshold value with OpenCV function\n",
    "    ret, otsu = cv2.threshold(blur,0,255,cv2.THRESH_BINARY+cv2.THRESH_OTSU)\n",
    "    print thresh,ret\n",
    "    plt.imshow(otsu)\n",
    "    plt.show()"
   ]
  },
  {
   "cell_type": "code",
   "execution_count": 38,
   "metadata": {
    "collapsed": true
   },
   "outputs": [],
   "source": [
    "def inbuilt_otsu(img):\n",
    "    # global thresholding\n",
    "    ret1,th1 = cv2.threshold(img,127,255,cv2.THRESH_BINARY)\n",
    "    # Otsu's thresholding\n",
    "    ret2,th2 = cv2.threshold(img,0,255,cv2.THRESH_BINARY+cv2.THRESH_OTSU)\n",
    "    # Otsu's thresholding after Gaussian filtering\n",
    "    blur = cv2.GaussianBlur(img,(5,5),0)\n",
    "    ret3,th3 = cv2.threshold(blur,0,255,cv2.THRESH_BINARY+cv2.THRESH_OTSU)\n",
    "    plt.imshow(th3)\n",
    "    plt.show()"
   ]
  },
  {
   "cell_type": "code",
   "execution_count": 39,
   "metadata": {
    "collapsed": false
   },
   "outputs": [
    {
     "name": "stdout",
     "output_type": "stream",
     "text": [
      "hist_norm\n",
      "[ 0.03827073  0.55988663  1.          0.63855422  0.64068037  0.49468461\n",
      "  0.50106305  0.60311836  0.45074415  0.41034728  0.44578314  0.19702339\n",
      "  0.28915662  0.23671155  0.25230333  0.25017717  0.15237421  0.31608787\n",
      "  0.46066618  0.2515946   0.37703755  0.36853296  0.2388377   0.33593196\n",
      "  0.49326718  0.52019846  0.7484054   0.39333805  0.10418143  0.0411056\n",
      "  0.04394047  0.03543586  0.03685329  0.04323175  0.04464918  0.03118356\n",
      "  0.03827073  0.03756201  0.03756201  0.03330971  0.01700921  0.02551382\n",
      "  0.03330971  0.02763997  0.02834869  0.0248051   0.03685329  0.02976612\n",
      "  0.04323175  0.03897945  0.03897945  0.04181432  0.03614458  0.03614458\n",
      "  0.03968817  0.0453579   0.03401843  0.03897945  0.04181432  0.03189227\n",
      "  0.03756201  0.04181432  0.04394047  0.04819277  0.0496102   0.04323175\n",
      "  0.04748406  0.05953225  0.05244507  0.05457123  0.06024097  0.04464918\n",
      "  0.06378455  0.06307583  0.05031892  0.05173636  0.06520198  0.06520198\n",
      "  0.05953225  0.06024097  0.07158044  0.07228915  0.06945429  0.06520198\n",
      "  0.07228915  0.07937633  0.08575478  0.08858965  0.09142452  0.08150248\n",
      "  0.08717222  0.0907158   0.0985117   0.08929837  0.09496811  0.0864635\n",
      "  0.10630758  0.102764    0.10772502  0.10630758  0.11339475  0.102764\n",
      "  0.10205528  0.09284195  0.09780297  0.08504607  0.09425939  0.10347272\n",
      "  0.09638554  0.09709426  0.10418143  0.08929837  0.11693835  0.10772502\n",
      "  0.11481219  0.11764706  0.10985117  0.10347272  0.10772502  0.09780297\n",
      "  0.09709426  0.08788093  0.09992913  0.10134656  0.10489015  0.10843374\n",
      "  0.10347272  0.10063785  0.09496811  0.09355067  0.10418143  0.09496811\n",
      "  0.09638554  0.08788093  0.08858965  0.09000709  0.0864635   0.10205528\n",
      "  0.08575478  0.09638554  0.10347272  0.09780297  0.09425939  0.11055989\n",
      "  0.09142452  0.11197732  0.09922041  0.10489015  0.11693835  0.102764\n",
      "  0.11339475  0.11197732  0.09922041  0.09284195  0.1112686   0.11410347\n",
      "  0.11764706  0.09213324  0.11906449  0.10347272  0.11055989  0.09496811\n",
      "  0.1070163   0.10843374  0.10559887  0.13678242  0.11693835  0.11977321\n",
      "  0.12331679  0.13536499  0.12189936  0.11552091  0.11410347  0.13182141\n",
      "  0.13323884  0.14174345  0.11977321  0.13182141  0.11977321  0.10418143\n",
      "  0.10559887  0.11622962  0.11410347  0.0864635   0.11197732  0.09638554\n",
      "  0.11268604  0.09000709  0.10772502  0.10418143  0.10489015  0.11693835\n",
      "  0.10985117  0.11481219  0.11055989  0.12686038  0.13394755  0.10772502\n",
      "  0.11835577  0.11693835  0.13111268  0.10843374  0.13040397  0.11552091\n",
      "  0.11622962  0.12756909  0.10914245  0.09638554  0.0864635   0.09922041\n",
      "  0.09638554  0.09922041  0.08362863  0.06661942  0.05031892  0.04677534\n",
      "  0.04748406  0.04748406  0.03543586  0.04748406  0.03827073  0.03401843\n",
      "  0.02693125  0.03118356  0.03401843  0.04606662  0.02763997  0.02693125\n",
      "  0.01913537  0.02197023  0.01842665  0.01913537  0.01700921  0.02197023\n",
      "  0.01488306  0.01204819  0.01488306  0.00992204  0.01488306  0.01204819\n",
      "  0.0163005   0.01275691  0.02551382  0.0163005   0.01063076  0.01488306\n",
      "  0.00708717  0.00566974  0.00141743  0.00212615  0.          0.          0.\n",
      "  0.          0.          0.        ]\n",
      "91 90.0\n"
     ]
    },
    {
     "name": "stderr",
     "output_type": "stream",
     "text": [
      "/usr/local/lib/python2.7/dist-packages/ipykernel/__main__.py:17: RuntimeWarning: divide by zero encountered in double_scalars\n",
      "/usr/local/lib/python2.7/dist-packages/ipykernel/__main__.py:18: RuntimeWarning: invalid value encountered in multiply\n",
      "/usr/local/lib/python2.7/dist-packages/ipykernel/__main__.py:17: RuntimeWarning: invalid value encountered in double_scalars\n"
     ]
    },
    {
     "data": {
      "image/png": "[encoded data removed]",
      "text/plain": [
       "<matplotlib.figure.Figure at 0x7f6b79c43410>"
      ]
     },
     "metadata": {},
     "output_type": "display_data"
    }
   ],
   "source": [
    "otsu(img)"
   ]
  },
  {
   "cell_type": "code",
   "execution_count": 25,
   "metadata": {
    "collapsed": false
   },
   "outputs": [
    {
     "data": {
      "image/png": "[encoded data removed]",
      "text/plain": [
       "<matplotlib.figure.Figure at 0x7f6b887b7410>"
      ]
     },
     "metadata": {},
     "output_type": "display_data"
    }
   ],
   "source": [
    "inbuilt_otsu(img)"
   ]
  },
  {
   "cell_type": "code",
   "execution_count": 31,
   "metadata": {
    "collapsed": true
   },
   "outputs": [],
   "source": [
    "blur = cv2.GaussianBlur(img,(5,5),0)\n",
    "hist = cv2.calcHist([blur],[0],None,[256],[0,256])"
   ]
  },
  {
   "cell_type": "code",
   "execution_count": 33,
   "metadata": {
    "collapsed": false
   },
   "outputs": [
    {
     "name": "stderr",
     "output_type": "stream",
     "text": [
      "/usr/local/lib/python2.7/dist-packages/matplotlib/axes/_axes.py:6087: UserWarning: 2D hist input should be nsamples x nvariables;\n",
      " this looks transposed (shape is 168 x 241)\n",
      "  '(shape is %d x %d)' % inp.shape[::-1])\n"
     ]
    },
    {
     "data": {
      "text/plain": [
       "([array([ 142.,   26.,    0.,    0.,    0.,    0.,    0.,    0.,    0.,    0.]),\n",
       "  array([ 142.,   26.,    0.,    0.,    0.,    0.,    0.,    0.,    0.,    0.]),\n",
       "  array([ 142.,   26.,    0.,    0.,    0.,    0.,    0.,    0.,    0.,    0.]),\n",
       "  array([ 142.,   26.,    0.,    0.,    0.,    0.,    0.,    0.,    0.,    0.]),\n",
       "  array([ 142.,   26.,    0.,    0.,    0.,    0.,    0.,    0.,    0.,    0.]),\n",
       "  array([ 142.,   26.,    0.,    0.,    0.,    0.,    0.,    0.,    0.,    0.]),\n",
       "  array([ 142.,   26.,    0.,    0.,    0.,    0.,    0.,    0.,    0.,    0.]),\n",
       "  array([ 141.,   27.,    0.,    0.,    0.,    0.,    0.,    0.,    0.,    0.]),\n",
       "  array([ 138.,   30.,    0.,    0.,    0.,    0.,    0.,    0.,    0.,    0.]),\n",
       "  array([ 136.,   32.,    0.,    0.,    0.,    0.,    0.,    0.,    0.,    0.]),\n",
       "  array([ 135.,   33.,    0.,    0.,    0.,    0.,    0.,    0.,    0.,    0.]),\n",
       "  array([ 134.,   34.,    0.,    0.,    0.,    0.,    0.,    0.,    0.,    0.]),\n",
       "  array([ 120.,   48.,    0.,    0.,    0.,    0.,    0.,    0.,    0.,    0.]),\n",
       "  array([ 111.,   45.,   12.,    0.,    0.,    0.,    0.,    0.,    0.,    0.]),\n",
       "  array([ 109.,   39.,    4.,    8.,    8.,    0.,    0.,    0.,    0.,    0.]),\n",
       "  array([ 106.,   36.,    3.,    3.,   20.,    0.,    0.,    0.,    0.,    0.]),\n",
       "  array([ 104.,   33.,    6.,   12.,   13.,    0.,    0.,    0.,    0.,    0.]),\n",
       "  array([ 103.,   30.,   17.,    7.,   10.,    1.,    0.,    0.,    0.,    0.]),\n",
       "  array([ 85.,  39.,  26.,   6.,   7.,   5.,   0.,   0.,   0.,   0.]),\n",
       "  array([ 76.,  33.,   7.,  31.,  15.,   6.,   0.,   0.,   0.,   0.]),\n",
       "  array([ 71.,  29.,   6.,  15.,  26.,  14.,   7.,   0.,   0.,   0.]),\n",
       "  array([ 67.,  24.,  10.,  17.,  19.,  12.,   7.,  12.,   0.,   0.]),\n",
       "  array([ 61.,  24.,  20.,  11.,  17.,  10.,   5.,  15.,   5.,   0.]),\n",
       "  array([ 55.,  25.,  25.,   9.,  14.,  10.,   4.,  13.,  13.,   0.]),\n",
       "  array([ 53.,  22.,  15.,  20.,  16.,   9.,   3.,   9.,  21.,   0.]),\n",
       "  array([ 48.,  22.,   8.,  11.,  22.,  20.,   4.,   9.,  24.,   0.]),\n",
       "  array([ 45.,  21.,   5.,   9.,  16.,  22.,  15.,   9.,  26.,   0.]),\n",
       "  array([ 42.,  20.,   4.,  10.,  12.,  19.,  22.,  12.,  27.,   0.]),\n",
       "  array([ 39.,  20.,   3.,   9.,  11.,  18.,  25.,  16.,  27.,   0.]),\n",
       "  array([ 37.,  18.,   4.,   5.,  15.,  17.,  23.,  22.,  27.,   0.]),\n",
       "  array([ 34.,  18.,   3.,   6.,  13.,  20.,  23.,  24.,  27.,   0.]),\n",
       "  array([ 32.,  17.,   3.,   7.,  12.,  18.,  27.,  24.,  28.,   0.]),\n",
       "  array([ 30.,  17.,   2.,   7.,  12.,  18.,  29.,  24.,  29.,   0.]),\n",
       "  array([ 29.,  15.,   2.,   7.,  12.,  16.,  31.,  25.,  31.,   0.]),\n",
       "  array([ 26.,  16.,   2.,   6.,  15.,  16.,  28.,  26.,  33.,   0.]),\n",
       "  array([ 24.,  16.,   2.,   5.,  12.,  19.,  29.,  27.,  34.,   0.]),\n",
       "  array([ 24.,  14.,   1.,   5.,  14.,  16.,  31.,  29.,  34.,   0.]),\n",
       "  array([ 21.,  14.,   3.,   3.,  15.,  14.,  34.,  31.,  33.,   0.]),\n",
       "  array([ 21.,  13.,   2.,   4.,  15.,  14.,  35.,  38.,  26.,   0.]),\n",
       "  array([ 19.,  14.,   1.,   7.,  15.,  21.,  33.,  33.,  25.,   0.]),\n",
       "  array([ 18.,  14.,   4.,  13.,  15.,  20.,  29.,  31.,  21.,   3.]),\n",
       "  array([ 18.,  18.,   4.,  12.,  15.,  16.,  25.,  38.,  17.,   5.]),\n",
       "  array([ 22.,  15.,   3.,   9.,  16.,  19.,  20.,  44.,  13.,   7.]),\n",
       "  array([ 24.,  12.,   4.,  10.,  13.,  18.,  31.,  33.,  14.,   9.]),\n",
       "  array([ 24.,  14.,   1.,   9.,  15.,  23.,  26.,  27.,  19.,  10.]),\n",
       "  array([ 24.,  12.,   5.,   8.,  14.,  26.,  18.,  22.,  27.,  12.]),\n",
       "  array([ 25.,  17.,   5.,   7.,  10.,  15.,  24.,  20.,  34.,  11.]),\n",
       "  array([ 31.,  12.,   5.,   6.,   9.,  15.,  17.,  30.,  31.,  12.]),\n",
       "  array([ 33.,  12.,   4.,   6.,   9.,  14.,  16.,  28.,  37.,   9.]),\n",
       "  array([ 34.,  12.,   4.,   5.,  10.,  13.,  23.,  23.,  35.,   9.]),\n",
       "  array([ 33.,  15.,   2.,   7.,   8.,  17.,  19.,  25.,  33.,   9.]),\n",
       "  array([ 35.,  14.,   2.,   7.,  10.,  15.,  25.,  15.,  35.,  10.]),\n",
       "  array([ 36.,  13.,   3.,   7.,   9.,  12.,  31.,  14.,  32.,  11.]),\n",
       "  array([ 36.,  13.,   3.,   8.,   7.,  21.,  27.,  10.,  35.,   8.]),\n",
       "  array([ 37.,  13.,   5.,   5.,   7.,  26.,  22.,  11.,  38.,   4.]),\n",
       "  array([ 38.,  12.,   6.,   4.,  11.,  25.,  19.,  13.,  36.,   4.]),\n",
       "  array([ 37.,  16.,   3.,   6.,   9.,  27.,  19.,  20.,  31.,   0.]),\n",
       "  array([ 38.,  16.,   3.,   8.,   9.,  26.,  22.,  20.,  26.,   0.]),\n",
       "  array([ 39.,  16.,   4.,   8.,  11.,  26.,  19.,  16.,  29.,   0.]),\n",
       "  array([ 39.,  18.,   3.,   7.,  14.,  23.,  16.,  19.,  29.,   0.]),\n",
       "  array([ 38.,  17.,   4.,   7.,  13.,  22.,  14.,  21.,  32.,   0.]),\n",
       "  array([ 29.,  21.,   7.,   8.,  12.,  22.,  15.,  18.,  36.,   0.]),\n",
       "  array([ 31.,  16.,   3.,  12.,  10.,  21.,  17.,  23.,  35.,   0.]),\n",
       "  array([ 32.,  16.,   4.,  13.,   6.,  17.,  15.,  35.,  30.,   0.]),\n",
       "  array([ 34.,  19.,   2.,  13.,   4.,  20.,  11.,  35.,  30.,   0.]),\n",
       "  array([ 33.,  17.,   6.,  13.,   5.,  19.,  16.,  36.,  23.,   0.]),\n",
       "  array([ 27.,  22.,   4.,  13.,   6.,  24.,  21.,  34.,  17.,   0.]),\n",
       "  array([ 25.,  16.,  10.,  14.,   5.,  26.,  28.,  30.,  14.,   0.]),\n",
       "  array([ 26.,  17.,   4.,  12.,   6.,  30.,  33.,  30.,  10.,   0.]),\n",
       "  array([ 28.,  18.,   5.,   9.,   7.,  28.,  36.,  34.,   3.,   0.]),\n",
       "  array([ 30.,  19.,   3.,  11.,   7.,  30.,  34.,  34.,   0.,   0.]),\n",
       "  array([ 32.,  20.,   2.,  12.,   8.,  27.,  38.,  29.,   0.,   0.]),\n",
       "  array([ 36.,  19.,   1.,  12.,   9.,  28.,  37.,  26.,   0.,   0.]),\n",
       "  array([ 36.,  21.,   3.,  10.,  13.,  25.,  37.,  23.,   0.,   0.]),\n",
       "  array([ 39.,  21.,   4.,   8.,  15.,  26.,  36.,  19.,   0.,   0.]),\n",
       "  array([ 41.,  24.,   3.,   7.,  20.,  22.,  35.,  16.,   0.,   0.]),\n",
       "  array([ 45.,  24.,   3.,   8.,  20.,  23.,  30.,  15.,   0.,   0.]),\n",
       "  array([ 47.,  26.,   3.,   9.,  20.,  24.,  29.,  10.,   0.,   0.]),\n",
       "  array([ 51.,  27.,   3.,   9.,  22.,  24.,  32.,   0.,   0.,   0.]),\n",
       "  array([ 54.,  29.,   4.,  10.,  22.,  29.,  20.,   0.,   0.,   0.]),\n",
       "  array([ 57.,  31.,   6.,  11.,  22.,  34.,   7.,   0.,   0.,   0.]),\n",
       "  array([ 61.,  33.,   7.,  11.,  26.,  29.,   1.,   0.,   0.,   0.]),\n",
       "  array([ 68.,  36.,   6.,  14.,  35.,   9.,   0.,   0.,   0.,   0.]),\n",
       "  array([ 76.,  36.,   8.,  25.,  23.,   0.,   0.,   0.,   0.,   0.]),\n",
       "  array([ 77.,  40.,   9.,  25.,  17.,   0.,   0.,   0.,   0.,   0.]),\n",
       "  array([ 78.,  38.,   7.,  21.,  24.,   0.,   0.,   0.,   0.,   0.]),\n",
       "  array([ 80.,  36.,   5.,  10.,  37.,   0.,   0.,   0.,   0.,   0.]),\n",
       "  array([ 83.,  36.,   9.,  21.,  16.,   3.,   0.,   0.,   0.,   0.]),\n",
       "  array([ 89.,  34.,  26.,   8.,   5.,   6.,   0.,   0.,   0.,   0.]),\n",
       "  array([ 90.,  34.,  11.,  21.,   6.,   6.,   0.,   0.,   0.,   0.]),\n",
       "  array([ 81.,  32.,  12.,  18.,  10.,  15.,   0.,   0.,   0.,   0.]),\n",
       "  array([ 73.,  28.,   8.,  20.,  14.,  11.,   6.,   8.,   0.,   0.]),\n",
       "  array([ 68.,  27.,  11.,  18.,  11.,  11.,   4.,   6.,  12.,   0.]),\n",
       "  array([ 63.,  24.,  23.,  12.,   8.,  10.,   4.,   4.,  20.,   0.]),\n",
       "  array([ 58.,  23.,  29.,   9.,   5.,   9.,   6.,   4.,  20.,   5.]),\n",
       "  array([ 54.,  23.,  17.,  20.,   6.,  10.,   5.,   4.,  18.,  11.]),\n",
       "  array([ 50.,  21.,  14.,  15.,  12.,  15.,   6.,   2.,  15.,  18.]),\n",
       "  array([ 46.,  21.,  12.,  14.,   8.,  22.,   6.,   3.,  22.,  14.]),\n",
       "  array([ 44.,  19.,   9.,  14.,   8.,  21.,  12.,   5.,  26.,  10.]),\n",
       "  array([ 41.,  19.,   8.,  13.,   9.,  20.,  15.,   8.,  23.,  12.]),\n",
       "  array([ 38.,  18.,   7.,  11.,  13.,  20.,  16.,   8.,  23.,  14.]),\n",
       "  array([ 36.,  17.,   7.,  11.,  14.,  16.,  20.,   9.,  17.,  21.]),\n",
       "  array([ 34.,  16.,   5.,  12.,  16.,  16.,  21.,  11.,  12.,  25.]),\n",
       "  array([ 31.,  16.,   5.,  12.,  15.,  19.,  21.,  11.,  14.,  24.]),\n",
       "  array([ 29.,  16.,   5.,  10.,  18.,  18.,  21.,  13.,  15.,  23.]),\n",
       "  array([ 27.,  16.,   5.,  14.,  14.,  18.,  23.,  12.,  14.,  25.]),\n",
       "  array([ 26.,  15.,   5.,  13.,  16.,  19.,  21.,  13.,  13.,  27.]),\n",
       "  array([ 23.,  15.,   5.,  14.,  17.,  18.,  23.,  11.,   9.,  33.]),\n",
       "  array([ 23.,  13.,   6.,  14.,  16.,  22.,  20.,  12.,  11.,  31.]),\n",
       "  array([ 21.,  14.,   6.,  15.,  15.,  21.,  22.,  13.,  22.,  19.]),\n",
       "  array([ 21.,  12.,   5.,  18.,  14.,  17.,  23.,  18.,  25.,  15.]),\n",
       "  array([ 19.,  12.,   6.,  15.,  16.,  19.,  23.,  20.,  29.,   9.]),\n",
       "  array([ 18.,  13.,   5.,  21.,  23.,  10.,  20.,  23.,  28.,   7.]),\n",
       "  array([ 18.,  20.,   8.,  18.,  18.,  13.,  18.,  26.,  22.,   7.]),\n",
       "  array([ 25.,  15.,   7.,  17.,  18.,  12.,  23.,  28.,  16.,   7.]),\n",
       "  array([ 27.,  14.,   7.,  15.,   5.,  16.,  28.,  31.,  18.,   7.]),\n",
       "  array([ 27.,  14.,   7.,  16.,   3.,   6.,  18.,  50.,  19.,   8.]),\n",
       "  array([ 27.,  13.,   7.,  12.,   7.,   7.,  14.,  36.,  37.,   8.]),\n",
       "  array([ 27.,  14.,   8.,   9.,   7.,   5.,  16.,  46.,  28.,   8.]),\n",
       "  array([ 27.,  12.,   7.,  11.,   6.,   7.,  21.,  41.,  28.,   8.]),\n",
       "  array([ 27.,  14.,   7.,   7.,   9.,  10.,  28.,  33.,  25.,   8.]),\n",
       "  array([ 28.,  12.,   8.,   7.,  13.,  12.,  25.,  32.,  24.,   7.]),\n",
       "  array([ 27.,  14.,   7.,  11.,  14.,  10.,  23.,  30.,  27.,   5.]),\n",
       "  array([ 27.,  14.,   7.,  18.,   9.,  10.,  24.,  29.,  24.,   6.]),\n",
       "  array([ 27.,  13.,  10.,  12.,  14.,  10.,  25.,  30.,  20.,   7.]),\n",
       "  array([ 27.,  13.,  11.,  11.,  15.,  11.,  24.,  32.,  20.,   4.]),\n",
       "  array([ 26.,  16.,  12.,   9.,  17.,  12.,  20.,  33.,  19.,   4.]),\n",
       "  array([ 28.,  15.,  10.,  11.,  17.,  13.,  31.,  20.,  22.,   1.]),\n",
       "  array([ 29.,  16.,   9.,  13.,  21.,  10.,  35.,  12.,  23.,   0.]),\n",
       "  array([ 30.,  19.,  10.,  18.,  16.,  13.,  24.,  15.,  23.,   0.]),\n",
       "  array([ 37.,  19.,  15.,   9.,  12.,  11.,  24.,  17.,  24.,   0.]),\n",
       "  array([ 47.,  15.,  10.,   9.,  10.,  11.,  26.,  10.,  30.,   0.]),\n",
       "  array([ 47.,  17.,   8.,  13.,   8.,   8.,  26.,  20.,  21.,   0.]),\n",
       "  array([ 43.,  19.,  10.,  11.,  13.,   4.,  27.,  27.,  14.,   0.]),\n",
       "  array([ 38.,  22.,  12.,  15.,   7.,  13.,  31.,  20.,  10.,   0.]),\n",
       "  array([ 40.,  15.,   8.,  16.,  15.,  25.,  24.,  17.,   8.,   0.]),\n",
       "  array([ 40.,  17.,   8.,  10.,  15.,  29.,  31.,  11.,   7.,   0.]),\n",
       "  array([ 41.,  15.,  12.,   8.,  24.,  22.,  31.,   9.,   6.,   0.]),\n",
       "  array([ 43.,  15.,   9.,  13.,  21.,  28.,  24.,  11.,   4.,   0.]),\n",
       "  array([ 41.,  18.,   9.,  16.,  20.,  29.,  21.,  11.,   3.,   0.]),\n",
       "  array([ 41.,  17.,  10.,  16.,  19.,  31.,  21.,  11.,   2.,   0.]),\n",
       "  array([ 42.,  18.,   8.,  17.,  22.,  28.,  20.,  13.,   0.,   0.]),\n",
       "  array([ 44.,  14.,   8.,  19.,  23.,  28.,  20.,  12.,   0.,   0.]),\n",
       "  array([ 42.,  14.,  11.,  18.,  22.,  30.,  19.,  12.,   0.,   0.]),\n",
       "  array([ 47.,  10.,   4.,  19.,  27.,  32.,  18.,  11.,   0.,   0.]),\n",
       "  array([ 50.,   9.,   6.,  18.,  26.,  26.,  20.,  13.,   0.,   0.]),\n",
       "  array([ 54.,   9.,   6.,  17.,  26.,  27.,   5.,  24.,   0.,   0.]),\n",
       "  array([ 58.,   9.,   5.,  16.,  28.,  27.,   7.,  18.,   0.,   0.]),\n",
       "  array([ 63.,   9.,   5.,  16.,  29.,  27.,   7.,  12.,   0.,   0.]),\n",
       "  array([ 67.,   8.,   6.,  15.,  32.,  28.,  12.,   0.,   0.,   0.]),\n",
       "  array([ 71.,   9.,   7.,  17.,  35.,  29.,   0.,   0.,   0.,   0.]),\n",
       "  array([ 79.,   8.,   6.,  19.,  40.,  16.,   0.,   0.,   0.,   0.]),\n",
       "  array([ 88.,   5.,   8.,  15.,  46.,   6.,   0.,   0.,   0.,   0.]),\n",
       "  array([ 94.,   7.,   7.,  19.,  40.,   1.,   0.,   0.,   0.,   0.]),\n",
       "  array([ 101.,    8.,   10.,   26.,   23.,    0.,    0.,    0.,    0.,    0.]),\n",
       "  array([ 111.,    9.,   11.,   33.,    4.,    0.,    0.,    0.,    0.,    0.]),\n",
       "  array([ 109.,   12.,    8.,   34.,    5.,    0.,    0.,    0.,    0.,    0.]),\n",
       "  array([ 108.,    9.,    6.,   35.,   10.,    0.,    0.,    0.,    0.,    0.]),\n",
       "  array([ 108.,    7.,    8.,   29.,   16.,    0.,    0.,    0.,    0.,    0.]),\n",
       "  array([ 110.,    7.,   20.,   28.,    3.,    0.,    0.,    0.,    0.,    0.]),\n",
       "  array([ 113.,   10.,   26.,   15.,    4.,    0.,    0.,    0.,    0.,    0.]),\n",
       "  array([ 113.,   10.,   15.,   18.,   12.,    0.,    0.,    0.,    0.,    0.]),\n",
       "  array([ 103.,    8.,   16.,   20.,    8.,    6.,    7.,    0.,    0.,    0.]),\n",
       "  array([ 94.,   6.,  12.,  28.,   7.,   4.,   6.,  11.,   0.,   0.]),\n",
       "  array([ 87.,   7.,   8.,  31.,  10.,   3.,   4.,  18.,   0.,   0.]),\n",
       "  array([ 81.,   6.,  24.,  18.,  10.,   3.,   3.,  23.,   0.,   0.]),\n",
       "  array([ 75.,   6.,  22.,  21.,  11.,   6.,  10.,  12.,   5.,   0.]),\n",
       "  array([ 71.,   5.,  14.,  28.,  22.,   3.,  10.,   8.,   7.,   0.]),\n",
       "  array([ 67.,  10.,  12.,  18.,  21.,  17.,  11.,   5.,   7.,   0.]),\n",
       "  array([ 69.,   7.,  11.,  16.,  18.,  13.,  24.,   2.,   8.,   0.]),\n",
       "  array([ 69.,   6.,   8.,  16.,  17.,  11.,  31.,   1.,   9.,   0.]),\n",
       "  array([ 67.,   7.,   8.,  13.,  17.,  11.,  34.,   2.,   9.,   0.]),\n",
       "  array([ 65.,   6.,   9.,  11.,  17.,  13.,  30.,   8.,   9.,   0.]),\n",
       "  array([ 65.,   6.,   5.,  14.,  16.,  13.,  26.,  13.,  10.,   0.]),\n",
       "  array([ 63.,   5.,   9.,   9.,  16.,  17.,  23.,  17.,   9.,   0.]),\n",
       "  array([ 62.,   4.,   6.,  14.,  12.,  19.,  22.,  19.,  10.,   0.]),\n",
       "  array([ 59.,   6.,   7.,  10.,  15.,  20.,  20.,  20.,  11.,   0.]),\n",
       "  array([ 59.,   3.,   7.,  12.,  13.,  20.,  20.,  23.,  11.,   0.]),\n",
       "  array([ 55.,   7.,   5.,  12.,  11.,  22.,  20.,  25.,  11.,   0.]),\n",
       "  array([ 54.,   7.,   4.,  12.,  12.,  23.,  19.,  25.,  12.,   0.]),\n",
       "  array([ 50.,   7.,   7.,  11.,  14.,  21.,  22.,  24.,  12.,   0.]),\n",
       "  array([ 38.,  10.,  11.,  14.,  14.,  20.,  24.,  28.,   9.,   0.]),\n",
       "  array([ 33.,   8.,   6.,  11.,  23.,  26.,  26.,  29.,   6.,   0.]),\n",
       "  array([ 31.,   3.,   9.,  10.,  26.,  24.,  29.,  30.,   6.,   0.]),\n",
       "  array([ 27.,   5.,  14.,  15.,  24.,  20.,  19.,  38.,   6.,   0.]),\n",
       "  array([ 32.,   8.,   8.,  14.,  25.,  17.,  22.,  37.,   5.,   0.]),\n",
       "  array([ 37.,   5.,   7.,   8.,  30.,  15.,  11.,  47.,   8.,   0.]),\n",
       "  array([ 35.,   6.,   6.,  10.,  28.,  15.,  11.,  50.,   7.,   0.]),\n",
       "  array([ 28.,  10.,   7.,   7.,  32.,  14.,  11.,  50.,   9.,   0.]),\n",
       "  array([ 26.,   7.,  10.,  10.,  29.,  12.,  13.,  46.,  15.,   0.]),\n",
       "  array([ 26.,   6.,   9.,  11.,  26.,  14.,  18.,  41.,  17.,   0.]),\n",
       "  array([ 26.,   6.,   9.,  11.,  24.,  20.,  24.,  33.,  15.,   0.]),\n",
       "  array([ 25.,   9.,   6.,  15.,  23.,  28.,  17.,  30.,  15.,   0.]),\n",
       "  array([ 24.,   6.,  10.,  17.,  23.,  28.,  16.,  31.,  12.,   1.]),\n",
       "  array([ 24.,   4.,  10.,  22.,  22.,  24.,  22.,  29.,  10.,   1.]),\n",
       "  array([ 24.,   4.,   8.,  22.,  16.,  32.,  23.,  28.,  10.,   1.]),\n",
       "  array([ 23.,   4.,   6.,  18.,  23.,  34.,  19.,  29.,  10.,   2.]),\n",
       "  array([ 23.,   4.,   6.,  15.,  24.,  36.,  14.,  34.,  11.,   1.]),\n",
       "  array([ 23.,   2.,   8.,  11.,  24.,  38.,  10.,  40.,  11.,   1.]),\n",
       "  array([ 23.,   1.,   7.,  13.,  24.,  29.,  22.,  35.,  14.,   0.]),\n",
       "  array([ 23.,   3.,   4.,  12.,  29.,  23.,  28.,  30.,  16.,   0.]),\n",
       "  array([ 24.,   3.,   3.,   8.,  31.,  24.,  29.,  31.,  15.,   0.]),\n",
       "  array([ 24.,   4.,   4.,   7.,  23.,  29.,  29.,  32.,  16.,   0.]),\n",
       "  array([ 26.,   2.,   5.,   8.,  23.,  17.,  29.,  38.,  20.,   0.]),\n",
       "  array([ 27.,   3.,   5.,   6.,  24.,  15.,  18.,  43.,  27.,   0.]),\n",
       "  array([ 28.,   3.,   4.,   9.,  24.,  11.,  22.,  46.,  21.,   0.]),\n",
       "  array([ 29.,   4.,   4.,  13.,  19.,  12.,  33.,  41.,  13.,   0.]),\n",
       "  array([ 30.,   4.,   4.,  15.,  19.,  29.,  27.,  31.,   9.,   0.]),\n",
       "  array([ 32.,   3.,   6.,  14.,  31.,  19.,  27.,  29.,   7.,   0.]),\n",
       "  array([ 34.,   3.,   4.,  17.,  25.,  16.,  33.,  31.,   5.,   0.]),\n",
       "  array([ 35.,   4.,   6.,  14.,  23.,  15.,  27.,  41.,   3.,   0.]),\n",
       "  array([ 38.,   2.,   7.,  11.,  24.,  12.,  30.,  38.,   6.,   0.]),\n",
       "  array([ 40.,   4.,   6.,  10.,  23.,  11.,  33.,  33.,   8.,   0.]),\n",
       "  array([ 42.,   3.,   7.,  11.,  16.,  16.,  34.,  36.,   3.,   0.]),\n",
       "  array([ 44.,   5.,   6.,  10.,  14.,  16.,  37.,  36.,   0.,   0.]),\n",
       "  array([ 47.,   3.,   8.,  10.,  14.,  16.,  37.,  33.,   0.,   0.]),\n",
       "  array([ 50.,   4.,   4.,  14.,  14.,  15.,  37.,  30.,   0.,   0.]),\n",
       "  array([ 54.,   3.,   5.,  15.,  12.,  16.,  36.,  27.,   0.,   0.]),\n",
       "  array([ 57.,   3.,   5.,  14.,  16.,  14.,  37.,  22.,   0.,   0.]),\n",
       "  array([ 60.,   4.,   4.,  17.,  16.,  14.,  36.,  17.,   0.,   0.]),\n",
       "  array([ 64.,   5.,   3.,  17.,  19.,  15.,  31.,  14.,   0.,   0.]),\n",
       "  array([ 68.,   5.,   3.,  19.,  24.,  16.,  24.,   9.,   0.,   0.]),\n",
       "  array([ 73.,   5.,   3.,  24.,  27.,   6.,  24.,   6.,   0.,   0.]),\n",
       "  array([ 77.,   6.,   4.,  28.,  21.,   5.,  24.,   3.,   0.,   0.]),\n",
       "  array([ 83.,   6.,   5.,  20.,  25.,   6.,  23.,   0.,   0.,   0.]),\n",
       "  array([ 90.,   6.,   4.,  14.,  29.,   7.,  18.,   0.,   0.,   0.]),\n",
       "  array([ 96.,   8.,   7.,  14.,  24.,   7.,  12.,   0.,   0.,   0.]),\n",
       "  array([ 104.,   12.,   14.,   11.,   15.,   12.,    0.,    0.,    0.,    0.]),\n",
       "  array([ 118.,   13.,    2.,   14.,   21.,    0.,    0.,    0.,    0.,    0.]),\n",
       "  array([ 132.,    3.,    2.,   12.,   19.,    0.,    0.,    0.,    0.,    0.]),\n",
       "  array([ 136.,    3.,    3.,    3.,   23.,    0.,    0.,    0.,    0.,    0.]),\n",
       "  array([ 140.,    4.,    3.,    5.,   16.,    0.,    0.,    0.,    0.,    0.]),\n",
       "  array([ 145.,    5.,    6.,   12.,    0.,    0.,    0.,    0.,    0.,    0.]),\n",
       "  array([ 153.,   10.,    5.,    0.,    0.,    0.,    0.,    0.,    0.,    0.]),\n",
       "  array([ 168.,    0.,    0.,    0.,    0.,    0.,    0.,    0.,    0.,    0.]),\n",
       "  array([ 168.,    0.,    0.,    0.,    0.,    0.,    0.,    0.,    0.,    0.]),\n",
       "  array([ 168.,    0.,    0.,    0.,    0.,    0.,    0.,    0.,    0.,    0.]),\n",
       "  array([ 168.,    0.,    0.,    0.,    0.,    0.,    0.,    0.,    0.,    0.]),\n",
       "  array([ 168.,    0.,    0.,    0.,    0.,    0.,    0.,    0.,    0.,    0.]),\n",
       "  array([ 168.,    0.,    0.,    0.,    0.,    0.,    0.,    0.,    0.,    0.]),\n",
       "  array([ 168.,    0.,    0.,    0.,    0.,    0.,    0.,    0.,    0.,    0.])],\n",
       " array([   0. ,   24.9,   49.8,   74.7,   99.6,  124.5,  149.4,  174.3,\n",
       "         199.2,  224.1,  249. ]),\n",
       " <a list of 241 Lists of Patches objects>)"
      ]
     },
     "execution_count": 33,
     "metadata": {},
     "output_type": "execute_result"
    },
    {
     "data": {
      "image/png": "[encoded data removed]",
      "text/plain": [
       "<matplotlib.figure.Figure at 0x7f6b89b29d90>"
      ]
     },
     "metadata": {},
     "output_type": "display_data"
    }
   ],
   "source": [
    "plt.hist(blur)"
   ]
  },
  {
   "cell_type": "code",
   "execution_count": null,
   "metadata": {
    "collapsed": true
   },
   "outputs": [],
   "source": []
  }
 ],
 "metadata": {
  "kernelspec": {
   "display_name": "Python 2",
   "language": "python",
   "name": "python2"
  },
  "language_info": {
   "codemirror_mode": {
    "name": "ipython",
    "version": 2
   },
   "file_extension": ".py",
   "mimetype": "text/x-python",
   "name": "python",
   "nbconvert_exporter": "python",
   "pygments_lexer": "ipython2",
   "version": "2.7.12"
  }
 },
 "nbformat": 4,
 "nbformat_minor": 2
}
